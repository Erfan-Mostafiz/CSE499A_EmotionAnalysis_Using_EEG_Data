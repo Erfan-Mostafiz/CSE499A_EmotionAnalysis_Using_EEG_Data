{
  "nbformat": 4,
  "nbformat_minor": 0,
  "metadata": {
    "colab": {
      "provenance": [],
      "collapsed_sections": []
    },
    "kernelspec": {
      "name": "python3",
      "display_name": "Python 3"
    },
    "language_info": {
      "name": "python"
    },
    "gpuClass": "standard",
    "accelerator": "TPU"
  },
  "cells": [
    {
      "cell_type": "code",
      "execution_count": null,
      "metadata": {
        "colab": {
          "base_uri": "https://localhost:8080/"
        },
        "id": "3qYSGECA5ehF",
        "outputId": "e764fc7f-1e8a-4f22-c316-061072571244"
      },
      "outputs": [
        {
          "output_type": "stream",
          "name": "stdout",
          "text": [
            "Looking in indexes: https://pypi.org/simple, https://us-python.pkg.dev/colab-wheels/public/simple/\n",
            "Collecting git+https://github.com/forrestbao/pyeeg.git\n",
            "  Cloning https://github.com/forrestbao/pyeeg.git to /tmp/pip-req-build-i3g4lu94\n",
            "  Running command git clone -q https://github.com/forrestbao/pyeeg.git /tmp/pip-req-build-i3g4lu94\n",
            "Requirement already satisfied: numpy>=1.9.2 in /usr/local/lib/python3.7/dist-packages (from pyeeg==0.4.4) (1.21.6)\n",
            "Building wheels for collected packages: pyeeg\n",
            "  Building wheel for pyeeg (setup.py) ... \u001b[?25l\u001b[?25hdone\n",
            "  Created wheel for pyeeg: filename=pyeeg-0.4.4-py2.py3-none-any.whl size=28131 sha256=fc8128f87dcca5e4c5ce683b2c3d8c372d6a17d1ed4b4d93cacaa9c3151e0971\n",
            "  Stored in directory: /tmp/pip-ephem-wheel-cache-3e03yeg7/wheels/b0/23/e4/703c908bda656959957029fa145879aa79307b2545a2ef0271\n",
            "Successfully built pyeeg\n",
            "Installing collected packages: pyeeg\n",
            "Successfully installed pyeeg-0.4.4\n"
          ]
        }
      ],
      "source": [
        "!pip install git+https://github.com/forrestbao/pyeeg.git\n",
        "import numpy as np\n",
        "import pyeeg as pe\n",
        "import pickle as pickle\n",
        "import pandas as pd\n",
        "import math\n",
        "\n",
        "from sklearn import svm\n",
        "from sklearn.preprocessing import normalize\n",
        "\n",
        "import os\n",
        "import time"
      ]
    },
    {
      "cell_type": "code",
      "source": [
        "import pandas as pd\n",
        "import keras.backend as K\n",
        "import numpy as np\n",
        "import pandas as pd\n",
        "from keras.models import Sequential\n",
        "from keras.layers import Dense\n",
        "from keras.models import Sequential\n",
        "from keras.layers.convolutional import Conv1D\n",
        "from keras.layers.convolutional import MaxPooling1D\n",
        "from tensorflow.keras.utils import to_categorical\n",
        "from keras.layers import Flatten\n",
        "from keras.layers import Dense\n",
        "import numpy as np\n",
        "import keras\n",
        "from keras.datasets import mnist\n",
        "from keras.models import Sequential\n",
        "from keras.layers import Dense, Dropout, Flatten, Conv2D, MaxPooling2D\n",
        "from keras import backend as K\n",
        "from keras.models import Model\n",
        "import timeit\n",
        "from keras.models import Sequential\n",
        "from keras.layers.core import Flatten, Dense, Dropout\n",
        "from keras.layers.convolutional import Convolution1D, MaxPooling1D, ZeroPadding1D\n",
        "from tensorflow.keras.optimizers import SGD\n",
        "#import cv2, numpy as np\n",
        "import warnings\n",
        "warnings.filterwarnings('ignore')"
      ],
      "metadata": {
        "id": "i69a9Q6AEjJd"
      },
      "execution_count": null,
      "outputs": []
    },
    {
      "cell_type": "code",
      "source": [
        "from google.colab import drive\n",
        "drive.mount('/content/drive/')"
      ],
      "metadata": {
        "id": "e7d0dQ_HE9nj",
        "colab": {
          "base_uri": "https://localhost:8080/"
        },
        "outputId": "b258c455-7b77-4ba8-d6e6-7664eeac65f2"
      },
      "execution_count": null,
      "outputs": [
        {
          "output_type": "stream",
          "name": "stdout",
          "text": [
            "Mounted at /content/drive/\n"
          ]
        }
      ]
    },
    {
      "cell_type": "code",
      "source": [
        "# data_preprocessed_python\n",
        "import os\n",
        "import pickle as pickle\n",
        "os.getcwd()\n",
        "os.chdir('/content/drive/My Drive')"
      ],
      "metadata": {
        "id": "rsLZw6AnFhp-"
      },
      "execution_count": null,
      "outputs": []
    },
    {
      "cell_type": "code",
      "source": [
        "channel = [1,2,3,4,6,11,13,17,19,20,21,25,29,31] #14 Channels chosen to fit Emotiv Epoch+\n",
        "band = [4,8,12,16,25,45] #5 bands\n",
        "window_size = 256 #Averaging band power of 2 sec\n",
        "step_size = 16 #Each 0.125 sec update once\n",
        "sample_rate = 128 #Sampling rate of 128 Hz\n",
        "subjectList = ['01','02','03']\n",
        "#List of subjects"
      ],
      "metadata": {
        "id": "ogzo5lbgFtyI"
      },
      "execution_count": null,
      "outputs": []
    },
    {
      "cell_type": "code",
      "source": [
        "def FFT_Processing (sub, channel, band, window_size, step_size, sample_rate):\n",
        "  # /content/drive/MyDrive/CSE499ATry2\n",
        "    '''\n",
        "    arguments:  string subject\n",
        "                list channel indice\n",
        "                list band\n",
        "                int window size for FFT\n",
        "                int step size for FFT\n",
        "                int sample rate for FFT\n",
        "    return:     void\n",
        "    '''\n",
        "    meta = []\n",
        "    with open(\"/content/drive/My Drive/CSE499ATry2/s\" + sub + '.dat', 'rb') as file:\n",
        "\n",
        "        subject = pickle.load(file, encoding='latin1') #resolve the python 2 data problem by encoding : latin1\n",
        "\n",
        "        for i in range (0,40):\n",
        "            # loop over 0-39 trails\n",
        "            data = subject[\"data\"][i]\n",
        "            labels = subject[\"labels\"][i]\n",
        "            start = 0;\n",
        "\n",
        "            while start + window_size < data.shape[1]:\n",
        "                meta_array = []\n",
        "                meta_data = [] #meta vector for analysis\n",
        "                for j in channel:\n",
        "                    X = data[j][start : start + window_size] #Slice raw data over 2 sec, at interval of 0.125 sec\n",
        "                    Y = pe.bin_power(X, band, sample_rate) #FFT over 2 sec of channel j, in seq of theta, alpha, low beta, high beta, gamma\n",
        "                    meta_data = meta_data + list(Y[0])\n",
        "\n",
        "                meta_array.append(np.array(meta_data))\n",
        "                meta_array.append(labels)\n",
        "\n",
        "                meta.append(np.array(meta_array))    \n",
        "                start = start + step_size\n",
        "                \n",
        "        meta = np.array(meta)\n",
        "        np.save('/content/drive/My Drive/CSE499ATry2/s' + sub, meta, allow_pickle=True, fix_imports=True)"
      ],
      "metadata": {
        "id": "-ISRNJTuFzTT"
      },
      "execution_count": null,
      "outputs": []
    },
    {
      "cell_type": "code",
      "source": [
        "for subjects in subjectList:\n",
        "    FFT_Processing (subjects, channel, band, window_size, step_size, sample_rate)"
      ],
      "metadata": {
        "id": "bMThcmNTGIkM"
      },
      "execution_count": null,
      "outputs": []
    },
    {
      "cell_type": "code",
      "source": [
        "data_training = []\n",
        "label_training = []\n",
        "data_testing = []\n",
        "label_testing = []\n",
        "\n",
        "for subjects in subjectList:\n",
        "\n",
        "    with open('/content/drive/My Drive/CSE499ATry2/s' + subjects + '.npy', 'rb') as file:\n",
        "      sub = np.load(file,allow_pickle=True)\n",
        "      for i in range (0,sub.shape[0]):\n",
        "        if i % 5 == 0:\n",
        "          data_testing.append(sub[i][0])\n",
        "          label_testing.append(sub[i][1])\n",
        "        else:\n",
        "          data_training.append(sub[i][0])\n",
        "          label_training.append(sub[i][1])\n",
        "\n",
        "np.save('/content/drive/My Drive/CSE499ATry2/data_training', np.array(data_training), allow_pickle=True, fix_imports=True)\n",
        "np.save('/content/drive/My Drive/CSE499ATry2/label_training', np.array(label_training), allow_pickle=True, fix_imports=True)\n",
        "print(\"training dataset:\", np.array(data_training).shape, np.array(label_training).shape)\n",
        "\n",
        "np.save('/content/drive/My Drive/CSE499ATry2/data_testing', np.array(data_testing), allow_pickle=True, fix_imports=True)\n",
        "np.save('/content/drive/My Drive/CSE499ATry2/label_testing', np.array(label_testing), allow_pickle=True, fix_imports=True)\n",
        "print(\"testing dataset:\", np.array(data_testing).shape, np.array(label_testing).shape)"
      ],
      "metadata": {
        "id": "HcXpzHXRIktn",
        "colab": {
          "base_uri": "https://localhost:8080/"
        },
        "outputId": "c53d29e6-5706-482d-dca5-22dc756303bf"
      },
      "execution_count": null,
      "outputs": [
        {
          "output_type": "stream",
          "name": "stdout",
          "text": [
            "training dataset: (46848, 70) (46848, 4)\n",
            "testing dataset: (11712, 70) (11712, 4)\n"
          ]
        }
      ]
    },
    {
      "cell_type": "code",
      "source": [
        "with open('/content/drive/My Drive/CSE499ATry2/data_training.npy', 'rb') as fileTrain:\n",
        "    X  = np.load(fileTrain)\n",
        "    \n",
        "with open('/content/drive/My Drive/CSE499ATry2/label_training.npy', 'rb') as fileTrainL:\n",
        "    Y  = np.load(fileTrainL)\n",
        "    \n",
        "X = normalize(X)\n",
        "Z = np.ravel(Y[:, [3]])\n",
        "\n",
        "Arousal_Train = np.ravel(Y[:, [0]])\n",
        "Valence_Train = np.ravel(Y[:, [1]])\n",
        "Domain_Train = np.ravel(Y[:, [2]])\n",
        "Like_Train = np.ravel(Y[:, [3]])"
      ],
      "metadata": {
        "id": "ZA1DziaJLuaq"
      },
      "execution_count": null,
      "outputs": []
    },
    {
      "cell_type": "code",
      "source": [
        "X.shape"
      ],
      "metadata": {
        "colab": {
          "base_uri": "https://localhost:8080/"
        },
        "id": "QkQUXbe5L3m8",
        "outputId": "db875897-a248-4525-9d0f-93d9225b9aec"
      },
      "execution_count": null,
      "outputs": [
        {
          "output_type": "execute_result",
          "data": {
            "text/plain": [
              "(46848, 70)"
            ]
          },
          "metadata": {},
          "execution_count": 10
        }
      ]
    },
    {
      "cell_type": "code",
      "source": [
        "from tensorflow.keras.utils import to_categorical\n",
        "y_train = to_categorical(Z)\n",
        "y_train"
      ],
      "metadata": {
        "colab": {
          "base_uri": "https://localhost:8080/"
        },
        "id": "iABGOGPnL6Ww",
        "outputId": "246ffb0d-d2e0-456b-e025-95ac3e5e4fbb"
      },
      "execution_count": null,
      "outputs": [
        {
          "output_type": "execute_result",
          "data": {
            "text/plain": [
              "array([[0., 0., 0., ..., 1., 0., 0.],\n",
              "       [0., 0., 0., ..., 1., 0., 0.],\n",
              "       [0., 0., 0., ..., 1., 0., 0.],\n",
              "       ...,\n",
              "       [0., 0., 0., ..., 0., 0., 0.],\n",
              "       [0., 0., 0., ..., 0., 0., 0.],\n",
              "       [0., 0., 0., ..., 0., 0., 0.]], dtype=float32)"
            ]
          },
          "metadata": {},
          "execution_count": 11
        }
      ]
    },
    {
      "cell_type": "code",
      "source": [
        "y_train.shape"
      ],
      "metadata": {
        "colab": {
          "base_uri": "https://localhost:8080/"
        },
        "id": "r6egDk8sL_Rx",
        "outputId": "3d8fb38c-f3c0-434b-c536-d086c6fb1c3d"
      },
      "execution_count": null,
      "outputs": [
        {
          "output_type": "execute_result",
          "data": {
            "text/plain": [
              "(46848, 10)"
            ]
          },
          "metadata": {},
          "execution_count": 12
        }
      ]
    },
    {
      "cell_type": "code",
      "source": [
        "x_train = np.array(X[:])"
      ],
      "metadata": {
        "id": "WmVDwtdRMDUG"
      },
      "execution_count": null,
      "outputs": []
    },
    {
      "cell_type": "code",
      "source": [
        "with open('/content/drive/My Drive/CSE499ATry2/data_testing.npy', 'rb') as fileTrain:\n",
        "    M  = np.load(fileTrain)\n",
        "    \n",
        "with open('/content/drive/My Drive/CSE499ATry2/label_testing.npy', 'rb') as fileTrainL:\n",
        "    N  = np.load(fileTrainL)\n",
        "\n",
        "M = normalize(M)\n",
        "L = np.ravel(N[:, [3]])\n",
        "\n",
        "Arousal_Test = np.ravel(N[:, [0]])\n",
        "Valence_Test = np.ravel(N[:, [1]])\n",
        "Domain_Test = np.ravel(N[:, [2]])\n",
        "Like_Test = np.ravel(N[:, [3]])"
      ],
      "metadata": {
        "id": "s4b_Z6P5MFk7"
      },
      "execution_count": null,
      "outputs": []
    },
    {
      "cell_type": "code",
      "source": [
        "x_test = np.array(M[:])"
      ],
      "metadata": {
        "id": "2XuozkKVMNNg"
      },
      "execution_count": null,
      "outputs": []
    },
    {
      "cell_type": "code",
      "source": [
        "from tensorflow.keras.utils import to_categorical\n",
        "y_test = to_categorical(L)\n",
        "y_test"
      ],
      "metadata": {
        "colab": {
          "base_uri": "https://localhost:8080/"
        },
        "id": "rucAnndMMRe5",
        "outputId": "a788a70f-11c8-4cda-abe6-2f81e946ad3a"
      },
      "execution_count": null,
      "outputs": [
        {
          "output_type": "execute_result",
          "data": {
            "text/plain": [
              "array([[0., 0., 0., ..., 1., 0., 0.],\n",
              "       [0., 0., 0., ..., 1., 0., 0.],\n",
              "       [0., 0., 0., ..., 1., 0., 0.],\n",
              "       ...,\n",
              "       [0., 0., 0., ..., 0., 0., 0.],\n",
              "       [0., 0., 0., ..., 0., 0., 0.],\n",
              "       [0., 0., 0., ..., 0., 0., 0.]], dtype=float32)"
            ]
          },
          "metadata": {},
          "execution_count": 16
        }
      ]
    },
    {
      "cell_type": "code",
      "source": [
        "y_test[1]"
      ],
      "metadata": {
        "colab": {
          "base_uri": "https://localhost:8080/"
        },
        "id": "fXRMv7cSMVTt",
        "outputId": "def1afb1-db8c-4bc3-81e2-15875e32c6bc"
      },
      "execution_count": null,
      "outputs": [
        {
          "output_type": "execute_result",
          "data": {
            "text/plain": [
              "array([0., 0., 0., 0., 0., 0., 0., 1., 0., 0.], dtype=float32)"
            ]
          },
          "metadata": {},
          "execution_count": 17
        }
      ]
    },
    {
      "cell_type": "code",
      "source": [
        "from sklearn.preprocessing import StandardScaler\n",
        "scaler = StandardScaler()\n",
        "x_train = scaler.fit_transform(x_train)\n",
        "x_test = scaler.fit_transform(x_test)"
      ],
      "metadata": {
        "id": "hvOW02M6MXpf"
      },
      "execution_count": null,
      "outputs": []
    },
    {
      "cell_type": "code",
      "source": [
        "x_train = x_train.reshape(x_train.shape[0],x_train.shape[1], 1)\n",
        "x_test = x_test.reshape(x_test.shape[0],x_test.shape[1], 1)"
      ],
      "metadata": {
        "id": "R4PVJJM0MaKh"
      },
      "execution_count": null,
      "outputs": []
    },
    {
      "cell_type": "code",
      "source": [
        "x_train.shape"
      ],
      "metadata": {
        "colab": {
          "base_uri": "https://localhost:8080/"
        },
        "id": "ciCVwPRwMdd0",
        "outputId": "d3c78f57-5760-45ea-fbe4-02bcf0593af6"
      },
      "execution_count": null,
      "outputs": [
        {
          "output_type": "execute_result",
          "data": {
            "text/plain": [
              "(46848, 70, 1)"
            ]
          },
          "metadata": {},
          "execution_count": 20
        }
      ]
    },
    {
      "cell_type": "code",
      "source": [
        "batch_size = 256\n",
        "num_classes = 10\n",
        "epochs = 200\n",
        "input_shape=(x_train.shape[1], 1)"
      ],
      "metadata": {
        "id": "Re3uPaLIMffC"
      },
      "execution_count": null,
      "outputs": []
    },
    {
      "cell_type": "code",
      "source": [
        "print(input_shape)"
      ],
      "metadata": {
        "colab": {
          "base_uri": "https://localhost:8080/"
        },
        "id": "GuI8uaYnMhbm",
        "outputId": "9efa8ae2-c03b-44a7-f9c1-8b72266e2d33"
      },
      "execution_count": null,
      "outputs": [
        {
          "output_type": "stream",
          "name": "stdout",
          "text": [
            "(70, 1)\n"
          ]
        }
      ]
    },
    {
      "cell_type": "code",
      "source": [
        "from keras.layers import Convolution1D, ZeroPadding1D, MaxPooling1D, BatchNormalization, Activation, Dropout, Flatten, Dense\n",
        "from keras.regularizers import l2"
      ],
      "metadata": {
        "id": "58LxB88kMjbW"
      },
      "execution_count": null,
      "outputs": []
    },
    {
      "cell_type": "code",
      "source": [
        "model = Sequential()\n",
        "intput_shape=(x_train.shape[1], 1)\n",
        "model.add(Conv1D(128, kernel_size=3,padding = 'same',activation='relu', input_shape=input_shape))\n",
        "model.add(BatchNormalization())\n",
        "model.add(MaxPooling1D(pool_size=(2)))\n",
        "model.add(Conv1D(128,kernel_size=3,padding = 'same', activation='relu'))\n",
        "model.add(BatchNormalization())\n",
        "model.add(MaxPooling1D(pool_size=(2)))\n",
        "model.add(Conv1D(64,kernel_size=3,padding = 'same', activation='relu'))\n",
        "model.add(MaxPooling1D(pool_size=(2)))\n",
        "model.add(Flatten())\n",
        "model.add(Dense(64, activation='tanh'))\n",
        "model.add(Dropout(0.2))\n",
        "model.add(Dense(32, activation='tanh'))\n",
        "model.add(Dropout(0.2))\n",
        "model.add(Dense(16, activation='relu'))\n",
        "model.add(Dropout(0.2))\n",
        "model.add(Dense(num_classes, activation='softmax'))\n",
        "model.summary()"
      ],
      "metadata": {
        "colab": {
          "base_uri": "https://localhost:8080/"
        },
        "id": "GPJPBZiqMlXt",
        "outputId": "a5c3a2ab-2bf7-4fe3-9f6a-b18d4114727f"
      },
      "execution_count": null,
      "outputs": [
        {
          "output_type": "stream",
          "name": "stdout",
          "text": [
            "Model: \"sequential\"\n",
            "_________________________________________________________________\n",
            " Layer (type)                Output Shape              Param #   \n",
            "=================================================================\n",
            " conv1d (Conv1D)             (None, 70, 128)           512       \n",
            "                                                                 \n",
            " batch_normalization (BatchN  (None, 70, 128)          512       \n",
            " ormalization)                                                   \n",
            "                                                                 \n",
            " max_pooling1d (MaxPooling1D  (None, 35, 128)          0         \n",
            " )                                                               \n",
            "                                                                 \n",
            " conv1d_1 (Conv1D)           (None, 35, 128)           49280     \n",
            "                                                                 \n",
            " batch_normalization_1 (Batc  (None, 35, 128)          512       \n",
            " hNormalization)                                                 \n",
            "                                                                 \n",
            " max_pooling1d_1 (MaxPooling  (None, 17, 128)          0         \n",
            " 1D)                                                             \n",
            "                                                                 \n",
            " conv1d_2 (Conv1D)           (None, 17, 64)            24640     \n",
            "                                                                 \n",
            " max_pooling1d_2 (MaxPooling  (None, 8, 64)            0         \n",
            " 1D)                                                             \n",
            "                                                                 \n",
            " flatten (Flatten)           (None, 512)               0         \n",
            "                                                                 \n",
            " dense (Dense)               (None, 64)                32832     \n",
            "                                                                 \n",
            " dropout (Dropout)           (None, 64)                0         \n",
            "                                                                 \n",
            " dense_1 (Dense)             (None, 32)                2080      \n",
            "                                                                 \n",
            " dropout_1 (Dropout)         (None, 32)                0         \n",
            "                                                                 \n",
            " dense_2 (Dense)             (None, 16)                528       \n",
            "                                                                 \n",
            " dropout_2 (Dropout)         (None, 16)                0         \n",
            "                                                                 \n",
            " dense_3 (Dense)             (None, 10)                170       \n",
            "                                                                 \n",
            "=================================================================\n",
            "Total params: 111,066\n",
            "Trainable params: 110,554\n",
            "Non-trainable params: 512\n",
            "_________________________________________________________________\n"
          ]
        }
      ]
    },
    {
      "cell_type": "code",
      "source": [
        "model.compile(loss=keras.losses.categorical_crossentropy,\n",
        "              optimizer='adam',\n",
        "              metrics=['accuracy'])"
      ],
      "metadata": {
        "id": "XNcBxqPUMna8"
      },
      "execution_count": null,
      "outputs": []
    },
    {
      "cell_type": "code",
      "source": [
        "history=model.fit(x_train, y_train,\n",
        "          batch_size=batch_size,\n",
        "          epochs=epochs,  \n",
        "          verbose=1,validation_data=(x_test,y_test))"
      ],
      "metadata": {
        "colab": {
          "base_uri": "https://localhost:8080/"
        },
        "id": "PAwzXZVoMqCu",
        "outputId": "ec3f427b-7b34-4a2f-a079-929154199f59"
      },
      "execution_count": null,
      "outputs": [
        {
          "output_type": "stream",
          "name": "stdout",
          "text": [
            "Epoch 1/200\n",
            "183/183 [==============================] - 33s 170ms/step - loss: 1.8043 - accuracy: 0.3037 - val_loss: 1.7610 - val_accuracy: 0.2824\n",
            "Epoch 2/200\n",
            "183/183 [==============================] - 31s 168ms/step - loss: 1.4967 - accuracy: 0.4050 - val_loss: 1.4632 - val_accuracy: 0.3946\n",
            "Epoch 3/200\n",
            "183/183 [==============================] - 32s 173ms/step - loss: 1.3644 - accuracy: 0.4577 - val_loss: 1.1905 - val_accuracy: 0.5242\n",
            "Epoch 4/200\n",
            "183/183 [==============================] - 31s 168ms/step - loss: 1.2576 - accuracy: 0.4997 - val_loss: 1.0707 - val_accuracy: 0.5722\n",
            "Epoch 5/200\n",
            "183/183 [==============================] - 31s 167ms/step - loss: 1.1754 - accuracy: 0.5348 - val_loss: 1.0140 - val_accuracy: 0.5915\n",
            "Epoch 6/200\n",
            "183/183 [==============================] - 31s 167ms/step - loss: 1.1026 - accuracy: 0.5595 - val_loss: 0.9750 - val_accuracy: 0.6054\n",
            "Epoch 7/200\n",
            "183/183 [==============================] - 31s 167ms/step - loss: 1.0518 - accuracy: 0.5805 - val_loss: 0.9179 - val_accuracy: 0.6227\n",
            "Epoch 8/200\n",
            "183/183 [==============================] - 31s 167ms/step - loss: 0.9989 - accuracy: 0.6024 - val_loss: 0.8663 - val_accuracy: 0.6452\n",
            "Epoch 9/200\n",
            "183/183 [==============================] - 30s 166ms/step - loss: 0.9483 - accuracy: 0.6261 - val_loss: 0.8276 - val_accuracy: 0.6702\n",
            "Epoch 10/200\n",
            "183/183 [==============================] - 30s 166ms/step - loss: 0.9220 - accuracy: 0.6345 - val_loss: 0.7865 - val_accuracy: 0.6891\n",
            "Epoch 11/200\n",
            "183/183 [==============================] - 31s 167ms/step - loss: 0.8795 - accuracy: 0.6509 - val_loss: 0.7770 - val_accuracy: 0.6845\n",
            "Epoch 12/200\n",
            "183/183 [==============================] - 30s 166ms/step - loss: 0.8538 - accuracy: 0.6598 - val_loss: 0.7619 - val_accuracy: 0.6935\n",
            "Epoch 13/200\n",
            "183/183 [==============================] - 31s 168ms/step - loss: 0.8237 - accuracy: 0.6748 - val_loss: 0.7431 - val_accuracy: 0.6990\n",
            "Epoch 14/200\n",
            "183/183 [==============================] - 31s 169ms/step - loss: 0.8021 - accuracy: 0.6798 - val_loss: 0.7030 - val_accuracy: 0.7202\n",
            "Epoch 15/200\n",
            "183/183 [==============================] - 31s 168ms/step - loss: 0.7777 - accuracy: 0.6927 - val_loss: 0.6976 - val_accuracy: 0.7160\n",
            "Epoch 16/200\n",
            "183/183 [==============================] - 30s 167ms/step - loss: 0.7544 - accuracy: 0.7027 - val_loss: 0.6768 - val_accuracy: 0.7282\n",
            "Epoch 17/200\n",
            "183/183 [==============================] - 30s 166ms/step - loss: 0.7374 - accuracy: 0.7094 - val_loss: 0.6727 - val_accuracy: 0.7339\n",
            "Epoch 18/200\n",
            "183/183 [==============================] - 30s 166ms/step - loss: 0.7252 - accuracy: 0.7154 - val_loss: 0.6545 - val_accuracy: 0.7368\n",
            "Epoch 19/200\n",
            "183/183 [==============================] - 30s 165ms/step - loss: 0.7039 - accuracy: 0.7234 - val_loss: 0.6342 - val_accuracy: 0.7480\n",
            "Epoch 20/200\n",
            "183/183 [==============================] - 30s 166ms/step - loss: 0.6812 - accuracy: 0.7335 - val_loss: 0.6394 - val_accuracy: 0.7454\n",
            "Epoch 21/200\n",
            "183/183 [==============================] - 31s 167ms/step - loss: 0.6696 - accuracy: 0.7377 - val_loss: 0.6400 - val_accuracy: 0.7474\n",
            "Epoch 22/200\n",
            "183/183 [==============================] - 31s 167ms/step - loss: 0.6586 - accuracy: 0.7404 - val_loss: 0.6275 - val_accuracy: 0.7529\n",
            "Epoch 23/200\n",
            "183/183 [==============================] - 31s 167ms/step - loss: 0.6431 - accuracy: 0.7486 - val_loss: 0.6065 - val_accuracy: 0.7606\n",
            "Epoch 24/200\n",
            "183/183 [==============================] - 31s 167ms/step - loss: 0.6377 - accuracy: 0.7518 - val_loss: 0.6113 - val_accuracy: 0.7656\n",
            "Epoch 25/200\n",
            "183/183 [==============================] - 31s 171ms/step - loss: 0.6269 - accuracy: 0.7544 - val_loss: 0.6155 - val_accuracy: 0.7555\n",
            "Epoch 26/200\n",
            "183/183 [==============================] - 31s 172ms/step - loss: 0.6110 - accuracy: 0.7629 - val_loss: 0.6079 - val_accuracy: 0.7529\n",
            "Epoch 27/200\n",
            "183/183 [==============================] - 31s 172ms/step - loss: 0.5970 - accuracy: 0.7685 - val_loss: 0.6075 - val_accuracy: 0.7736\n",
            "Epoch 28/200\n",
            "183/183 [==============================] - 31s 171ms/step - loss: 0.5966 - accuracy: 0.7662 - val_loss: 0.5628 - val_accuracy: 0.7760\n",
            "Epoch 29/200\n",
            "183/183 [==============================] - 31s 169ms/step - loss: 0.5763 - accuracy: 0.7746 - val_loss: 0.5594 - val_accuracy: 0.7812\n",
            "Epoch 30/200\n",
            "183/183 [==============================] - 31s 169ms/step - loss: 0.5746 - accuracy: 0.7775 - val_loss: 0.5658 - val_accuracy: 0.7801\n",
            "Epoch 31/200\n",
            "183/183 [==============================] - 31s 169ms/step - loss: 0.5689 - accuracy: 0.7790 - val_loss: 0.5894 - val_accuracy: 0.7737\n",
            "Epoch 32/200\n",
            "183/183 [==============================] - 31s 171ms/step - loss: 0.5630 - accuracy: 0.7819 - val_loss: 0.5466 - val_accuracy: 0.7886\n",
            "Epoch 33/200\n",
            "183/183 [==============================] - 31s 171ms/step - loss: 0.5539 - accuracy: 0.7870 - val_loss: 0.5830 - val_accuracy: 0.7689\n",
            "Epoch 34/200\n",
            "183/183 [==============================] - 31s 169ms/step - loss: 0.5423 - accuracy: 0.7907 - val_loss: 0.5572 - val_accuracy: 0.7862\n",
            "Epoch 35/200\n",
            "183/183 [==============================] - 31s 168ms/step - loss: 0.5376 - accuracy: 0.7919 - val_loss: 0.5363 - val_accuracy: 0.7955\n",
            "Epoch 36/200\n",
            "183/183 [==============================] - 31s 167ms/step - loss: 0.5280 - accuracy: 0.7955 - val_loss: 0.5424 - val_accuracy: 0.7947\n",
            "Epoch 37/200\n",
            "183/183 [==============================] - 31s 168ms/step - loss: 0.5314 - accuracy: 0.7951 - val_loss: 0.5445 - val_accuracy: 0.7906\n",
            "Epoch 38/200\n",
            "183/183 [==============================] - 31s 169ms/step - loss: 0.5155 - accuracy: 0.8014 - val_loss: 0.5608 - val_accuracy: 0.7802\n",
            "Epoch 39/200\n",
            "183/183 [==============================] - 31s 168ms/step - loss: 0.5131 - accuracy: 0.8008 - val_loss: 0.5537 - val_accuracy: 0.7914\n",
            "Epoch 40/200\n",
            "183/183 [==============================] - 31s 169ms/step - loss: 0.5251 - accuracy: 0.7964 - val_loss: 0.5452 - val_accuracy: 0.7959\n",
            "Epoch 41/200\n",
            "183/183 [==============================] - 31s 169ms/step - loss: 0.5061 - accuracy: 0.8045 - val_loss: 0.5446 - val_accuracy: 0.7925\n",
            "Epoch 42/200\n",
            "183/183 [==============================] - 31s 169ms/step - loss: 0.4957 - accuracy: 0.8093 - val_loss: 0.5111 - val_accuracy: 0.8086\n",
            "Epoch 43/200\n",
            "183/183 [==============================] - 31s 169ms/step - loss: 0.4853 - accuracy: 0.8123 - val_loss: 0.4949 - val_accuracy: 0.8128\n",
            "Epoch 44/200\n",
            "183/183 [==============================] - 31s 168ms/step - loss: 0.4887 - accuracy: 0.8127 - val_loss: 0.5228 - val_accuracy: 0.7991\n",
            "Epoch 45/200\n",
            "183/183 [==============================] - 31s 169ms/step - loss: 0.4840 - accuracy: 0.8156 - val_loss: 0.5267 - val_accuracy: 0.8045\n",
            "Epoch 46/200\n",
            "183/183 [==============================] - 31s 167ms/step - loss: 0.4798 - accuracy: 0.8159 - val_loss: 0.5339 - val_accuracy: 0.8062\n",
            "Epoch 47/200\n",
            "183/183 [==============================] - 31s 167ms/step - loss: 0.4799 - accuracy: 0.8154 - val_loss: 0.5338 - val_accuracy: 0.8035\n",
            "Epoch 48/200\n",
            "183/183 [==============================] - 31s 168ms/step - loss: 0.4658 - accuracy: 0.8212 - val_loss: 0.4953 - val_accuracy: 0.8174\n",
            "Epoch 49/200\n",
            "183/183 [==============================] - 31s 169ms/step - loss: 0.4726 - accuracy: 0.8198 - val_loss: 0.5054 - val_accuracy: 0.8129\n",
            "Epoch 50/200\n",
            "183/183 [==============================] - 31s 169ms/step - loss: 0.4596 - accuracy: 0.8247 - val_loss: 0.5119 - val_accuracy: 0.8116\n",
            "Epoch 51/200\n",
            "183/183 [==============================] - 31s 169ms/step - loss: 0.4573 - accuracy: 0.8260 - val_loss: 0.5045 - val_accuracy: 0.8179\n",
            "Epoch 52/200\n",
            "183/183 [==============================] - 31s 168ms/step - loss: 0.4584 - accuracy: 0.8257 - val_loss: 0.5306 - val_accuracy: 0.8118\n",
            "Epoch 53/200\n",
            "183/183 [==============================] - 31s 170ms/step - loss: 0.4504 - accuracy: 0.8290 - val_loss: 0.5035 - val_accuracy: 0.8149\n",
            "Epoch 54/200\n",
            "183/183 [==============================] - 31s 170ms/step - loss: 0.4391 - accuracy: 0.8331 - val_loss: 0.5049 - val_accuracy: 0.8174\n",
            "Epoch 55/200\n",
            "183/183 [==============================] - 31s 171ms/step - loss: 0.4444 - accuracy: 0.8322 - val_loss: 0.5295 - val_accuracy: 0.8195\n",
            "Epoch 56/200\n",
            "183/183 [==============================] - 31s 170ms/step - loss: 0.4405 - accuracy: 0.8344 - val_loss: 0.5007 - val_accuracy: 0.8221\n",
            "Epoch 57/200\n",
            "183/183 [==============================] - 32s 173ms/step - loss: 0.4268 - accuracy: 0.8391 - val_loss: 0.5256 - val_accuracy: 0.8209\n",
            "Epoch 58/200\n",
            "183/183 [==============================] - 32s 173ms/step - loss: 0.4382 - accuracy: 0.8344 - val_loss: 0.5089 - val_accuracy: 0.8215\n",
            "Epoch 59/200\n",
            "183/183 [==============================] - 32s 173ms/step - loss: 0.4234 - accuracy: 0.8389 - val_loss: 0.5118 - val_accuracy: 0.8186\n",
            "Epoch 60/200\n",
            "183/183 [==============================] - 32s 173ms/step - loss: 0.4289 - accuracy: 0.8369 - val_loss: 0.4929 - val_accuracy: 0.8221\n",
            "Epoch 61/200\n",
            "183/183 [==============================] - 32s 173ms/step - loss: 0.4248 - accuracy: 0.8393 - val_loss: 0.5092 - val_accuracy: 0.8167\n",
            "Epoch 62/200\n",
            "183/183 [==============================] - 31s 171ms/step - loss: 0.4146 - accuracy: 0.8435 - val_loss: 0.5188 - val_accuracy: 0.8213\n",
            "Epoch 63/200\n",
            "183/183 [==============================] - 31s 170ms/step - loss: 0.4139 - accuracy: 0.8423 - val_loss: 0.5137 - val_accuracy: 0.8239\n",
            "Epoch 64/200\n",
            "183/183 [==============================] - 31s 170ms/step - loss: 0.4036 - accuracy: 0.8456 - val_loss: 0.4966 - val_accuracy: 0.8285\n",
            "Epoch 65/200\n",
            "183/183 [==============================] - 31s 171ms/step - loss: 0.4097 - accuracy: 0.8437 - val_loss: 0.4935 - val_accuracy: 0.8251\n",
            "Epoch 66/200\n",
            "183/183 [==============================] - 31s 171ms/step - loss: 0.4101 - accuracy: 0.8449 - val_loss: 0.4808 - val_accuracy: 0.8354\n",
            "Epoch 67/200\n",
            "183/183 [==============================] - 31s 170ms/step - loss: 0.4074 - accuracy: 0.8487 - val_loss: 0.4948 - val_accuracy: 0.8315\n",
            "Epoch 68/200\n",
            "183/183 [==============================] - 31s 170ms/step - loss: 0.4130 - accuracy: 0.8470 - val_loss: 0.4742 - val_accuracy: 0.8324\n",
            "Epoch 69/200\n",
            "183/183 [==============================] - 32s 172ms/step - loss: 0.3966 - accuracy: 0.8515 - val_loss: 0.5029 - val_accuracy: 0.8215\n",
            "Epoch 70/200\n",
            "183/183 [==============================] - 31s 171ms/step - loss: 0.3926 - accuracy: 0.8514 - val_loss: 0.4930 - val_accuracy: 0.8351\n",
            "Epoch 71/200\n",
            "183/183 [==============================] - 31s 171ms/step - loss: 0.3840 - accuracy: 0.8553 - val_loss: 0.4944 - val_accuracy: 0.8316\n",
            "Epoch 72/200\n",
            "183/183 [==============================] - 31s 171ms/step - loss: 0.3941 - accuracy: 0.8513 - val_loss: 0.4954 - val_accuracy: 0.8324\n",
            "Epoch 73/200\n",
            "183/183 [==============================] - 31s 171ms/step - loss: 0.3924 - accuracy: 0.8544 - val_loss: 0.4906 - val_accuracy: 0.8346\n",
            "Epoch 74/200\n",
            "183/183 [==============================] - 31s 171ms/step - loss: 0.3889 - accuracy: 0.8540 - val_loss: 0.4957 - val_accuracy: 0.8337\n",
            "Epoch 75/200\n",
            "183/183 [==============================] - 31s 171ms/step - loss: 0.3909 - accuracy: 0.8546 - val_loss: 0.4604 - val_accuracy: 0.8391\n",
            "Epoch 76/200\n",
            "183/183 [==============================] - 31s 170ms/step - loss: 0.3834 - accuracy: 0.8562 - val_loss: 0.4700 - val_accuracy: 0.8389\n",
            "Epoch 77/200\n",
            "183/183 [==============================] - 31s 171ms/step - loss: 0.3839 - accuracy: 0.8570 - val_loss: 0.4585 - val_accuracy: 0.8449\n",
            "Epoch 78/200\n",
            "183/183 [==============================] - 31s 171ms/step - loss: 0.3809 - accuracy: 0.8592 - val_loss: 0.4602 - val_accuracy: 0.8423\n",
            "Epoch 79/200\n",
            "183/183 [==============================] - 31s 169ms/step - loss: 0.3672 - accuracy: 0.8643 - val_loss: 0.4743 - val_accuracy: 0.8443\n",
            "Epoch 80/200\n",
            "183/183 [==============================] - 31s 170ms/step - loss: 0.3653 - accuracy: 0.8627 - val_loss: 0.4709 - val_accuracy: 0.8431\n",
            "Epoch 81/200\n",
            "183/183 [==============================] - 31s 169ms/step - loss: 0.3635 - accuracy: 0.8652 - val_loss: 0.4771 - val_accuracy: 0.8417\n",
            "Epoch 82/200\n",
            "183/183 [==============================] - 31s 170ms/step - loss: 0.3646 - accuracy: 0.8647 - val_loss: 0.4923 - val_accuracy: 0.8373\n",
            "Epoch 83/200\n",
            "183/183 [==============================] - 31s 171ms/step - loss: 0.3673 - accuracy: 0.8643 - val_loss: 0.4593 - val_accuracy: 0.8510\n",
            "Epoch 84/200\n",
            "183/183 [==============================] - 31s 172ms/step - loss: 0.3637 - accuracy: 0.8654 - val_loss: 0.4657 - val_accuracy: 0.8418\n",
            "Epoch 85/200\n",
            "183/183 [==============================] - 31s 170ms/step - loss: 0.3644 - accuracy: 0.8659 - val_loss: 0.4551 - val_accuracy: 0.8456\n",
            "Epoch 86/200\n",
            "183/183 [==============================] - 31s 170ms/step - loss: 0.3599 - accuracy: 0.8648 - val_loss: 0.4858 - val_accuracy: 0.8453\n",
            "Epoch 87/200\n",
            "183/183 [==============================] - 31s 170ms/step - loss: 0.3470 - accuracy: 0.8705 - val_loss: 0.4991 - val_accuracy: 0.8413\n",
            "Epoch 88/200\n",
            "183/183 [==============================] - 31s 170ms/step - loss: 0.3543 - accuracy: 0.8684 - val_loss: 0.4830 - val_accuracy: 0.8440\n",
            "Epoch 89/200\n",
            "183/183 [==============================] - 31s 170ms/step - loss: 0.3547 - accuracy: 0.8675 - val_loss: 0.4598 - val_accuracy: 0.8467\n",
            "Epoch 90/200\n",
            "183/183 [==============================] - 31s 172ms/step - loss: 0.3537 - accuracy: 0.8692 - val_loss: 0.4886 - val_accuracy: 0.8450\n",
            "Epoch 91/200\n",
            "183/183 [==============================] - 31s 171ms/step - loss: 0.3532 - accuracy: 0.8681 - val_loss: 0.5039 - val_accuracy: 0.8403\n",
            "Epoch 92/200\n",
            "183/183 [==============================] - 31s 172ms/step - loss: 0.3473 - accuracy: 0.8716 - val_loss: 0.4705 - val_accuracy: 0.8496\n",
            "Epoch 93/200\n",
            "183/183 [==============================] - 31s 171ms/step - loss: 0.3457 - accuracy: 0.8725 - val_loss: 0.4765 - val_accuracy: 0.8519\n",
            "Epoch 94/200\n",
            "183/183 [==============================] - 31s 171ms/step - loss: 0.3459 - accuracy: 0.8724 - val_loss: 0.4811 - val_accuracy: 0.8441\n",
            "Epoch 95/200\n",
            "183/183 [==============================] - 32s 174ms/step - loss: 0.3419 - accuracy: 0.8729 - val_loss: 0.4542 - val_accuracy: 0.8587\n",
            "Epoch 96/200\n",
            "183/183 [==============================] - 32s 177ms/step - loss: 0.3477 - accuracy: 0.8721 - val_loss: 0.4500 - val_accuracy: 0.8528\n",
            "Epoch 97/200\n",
            "183/183 [==============================] - 32s 176ms/step - loss: 0.3432 - accuracy: 0.8741 - val_loss: 0.4518 - val_accuracy: 0.8563\n",
            "Epoch 98/200\n",
            "183/183 [==============================] - 32s 174ms/step - loss: 0.3356 - accuracy: 0.8766 - val_loss: 0.4657 - val_accuracy: 0.8493\n",
            "Epoch 99/200\n",
            "183/183 [==============================] - 31s 172ms/step - loss: 0.3427 - accuracy: 0.8735 - val_loss: 0.4728 - val_accuracy: 0.8533\n",
            "Epoch 100/200\n",
            "183/183 [==============================] - 31s 171ms/step - loss: 0.3208 - accuracy: 0.8823 - val_loss: 0.4499 - val_accuracy: 0.8567\n",
            "Epoch 101/200\n",
            "183/183 [==============================] - 31s 172ms/step - loss: 0.3308 - accuracy: 0.8775 - val_loss: 0.5036 - val_accuracy: 0.8381\n",
            "Epoch 102/200\n",
            "183/183 [==============================] - 31s 171ms/step - loss: 0.3266 - accuracy: 0.8790 - val_loss: 0.4673 - val_accuracy: 0.8507\n",
            "Epoch 103/200\n",
            "183/183 [==============================] - 31s 172ms/step - loss: 0.3287 - accuracy: 0.8786 - val_loss: 0.4756 - val_accuracy: 0.8508\n",
            "Epoch 104/200\n",
            "183/183 [==============================] - 32s 172ms/step - loss: 0.3327 - accuracy: 0.8766 - val_loss: 0.4562 - val_accuracy: 0.8560\n",
            "Epoch 105/200\n",
            "183/183 [==============================] - 32s 173ms/step - loss: 0.3269 - accuracy: 0.8794 - val_loss: 0.4592 - val_accuracy: 0.8558\n",
            "Epoch 106/200\n",
            "183/183 [==============================] - 32s 173ms/step - loss: 0.3206 - accuracy: 0.8824 - val_loss: 0.4868 - val_accuracy: 0.8409\n",
            "Epoch 107/200\n",
            "183/183 [==============================] - 32s 174ms/step - loss: 0.3158 - accuracy: 0.8849 - val_loss: 0.4869 - val_accuracy: 0.8539\n",
            "Epoch 108/200\n",
            "183/183 [==============================] - 32s 173ms/step - loss: 0.3251 - accuracy: 0.8832 - val_loss: 0.4811 - val_accuracy: 0.8461\n",
            "Epoch 109/200\n",
            "183/183 [==============================] - 32s 177ms/step - loss: 0.3186 - accuracy: 0.8828 - val_loss: 0.4762 - val_accuracy: 0.8505\n",
            "Epoch 110/200\n",
            "183/183 [==============================] - 32s 176ms/step - loss: 0.3209 - accuracy: 0.8838 - val_loss: 0.4473 - val_accuracy: 0.8637\n",
            "Epoch 111/200\n",
            "183/183 [==============================] - 33s 178ms/step - loss: 0.3148 - accuracy: 0.8849 - val_loss: 0.4720 - val_accuracy: 0.8534\n",
            "Epoch 112/200\n",
            "183/183 [==============================] - 32s 177ms/step - loss: 0.3130 - accuracy: 0.8852 - val_loss: 0.4474 - val_accuracy: 0.8624\n",
            "Epoch 113/200\n",
            "183/183 [==============================] - 32s 176ms/step - loss: 0.3136 - accuracy: 0.8849 - val_loss: 0.4668 - val_accuracy: 0.8619\n",
            "Epoch 114/200\n",
            "183/183 [==============================] - 32s 174ms/step - loss: 0.3200 - accuracy: 0.8843 - val_loss: 0.4427 - val_accuracy: 0.8599\n",
            "Epoch 115/200\n",
            "183/183 [==============================] - 32s 173ms/step - loss: 0.3176 - accuracy: 0.8860 - val_loss: 0.4769 - val_accuracy: 0.8497\n",
            "Epoch 116/200\n",
            "183/183 [==============================] - 32s 174ms/step - loss: 0.3070 - accuracy: 0.8891 - val_loss: 0.4603 - val_accuracy: 0.8607\n",
            "Epoch 117/200\n",
            "183/183 [==============================] - 32s 176ms/step - loss: 0.2983 - accuracy: 0.8903 - val_loss: 0.4527 - val_accuracy: 0.8619\n",
            "Epoch 118/200\n",
            "183/183 [==============================] - 32s 177ms/step - loss: 0.3095 - accuracy: 0.8870 - val_loss: 0.4443 - val_accuracy: 0.8591\n",
            "Epoch 119/200\n",
            "183/183 [==============================] - 32s 174ms/step - loss: 0.3049 - accuracy: 0.8881 - val_loss: 0.4515 - val_accuracy: 0.8630\n",
            "Epoch 120/200\n",
            "183/183 [==============================] - 32s 173ms/step - loss: 0.3005 - accuracy: 0.8893 - val_loss: 0.4528 - val_accuracy: 0.8600\n",
            "Epoch 121/200\n",
            "183/183 [==============================] - 32s 174ms/step - loss: 0.2967 - accuracy: 0.8913 - val_loss: 0.4722 - val_accuracy: 0.8597\n",
            "Epoch 122/200\n",
            "183/183 [==============================] - 32s 173ms/step - loss: 0.3034 - accuracy: 0.8893 - val_loss: 0.4696 - val_accuracy: 0.8631\n",
            "Epoch 123/200\n",
            "183/183 [==============================] - 32s 173ms/step - loss: 0.2977 - accuracy: 0.8934 - val_loss: 0.4417 - val_accuracy: 0.8695\n",
            "Epoch 124/200\n",
            "183/183 [==============================] - 31s 172ms/step - loss: 0.3061 - accuracy: 0.8884 - val_loss: 0.4360 - val_accuracy: 0.8624\n",
            "Epoch 125/200\n",
            "183/183 [==============================] - 31s 172ms/step - loss: 0.2991 - accuracy: 0.8915 - val_loss: 0.4649 - val_accuracy: 0.8613\n",
            "Epoch 126/200\n",
            "183/183 [==============================] - 32s 175ms/step - loss: 0.3004 - accuracy: 0.8910 - val_loss: 0.4436 - val_accuracy: 0.8645\n",
            "Epoch 127/200\n",
            "183/183 [==============================] - 32s 176ms/step - loss: 0.2905 - accuracy: 0.8946 - val_loss: 0.4905 - val_accuracy: 0.8506\n",
            "Epoch 128/200\n",
            "183/183 [==============================] - 32s 178ms/step - loss: 0.2984 - accuracy: 0.8916 - val_loss: 0.4575 - val_accuracy: 0.8585\n",
            "Epoch 129/200\n",
            "183/183 [==============================] - 33s 178ms/step - loss: 0.2883 - accuracy: 0.8954 - val_loss: 0.4480 - val_accuracy: 0.8621\n",
            "Epoch 130/200\n",
            "183/183 [==============================] - 32s 177ms/step - loss: 0.2838 - accuracy: 0.8977 - val_loss: 0.4455 - val_accuracy: 0.8638\n",
            "Epoch 131/200\n",
            "183/183 [==============================] - 32s 173ms/step - loss: 0.2925 - accuracy: 0.8953 - val_loss: 0.4527 - val_accuracy: 0.8631\n",
            "Epoch 132/200\n",
            "183/183 [==============================] - 32s 173ms/step - loss: 0.2942 - accuracy: 0.8927 - val_loss: 0.4455 - val_accuracy: 0.8650\n",
            "Epoch 133/200\n",
            "183/183 [==============================] - 32s 176ms/step - loss: 0.2744 - accuracy: 0.9021 - val_loss: 0.4891 - val_accuracy: 0.8642\n",
            "Epoch 134/200\n",
            "183/183 [==============================] - 32s 174ms/step - loss: 0.2791 - accuracy: 0.9004 - val_loss: 0.4612 - val_accuracy: 0.8669\n",
            "Epoch 135/200\n",
            "183/183 [==============================] - 32s 175ms/step - loss: 0.2842 - accuracy: 0.8984 - val_loss: 0.4608 - val_accuracy: 0.8640\n",
            "Epoch 136/200\n",
            "183/183 [==============================] - 32s 173ms/step - loss: 0.2851 - accuracy: 0.8976 - val_loss: 0.4553 - val_accuracy: 0.8666\n",
            "Epoch 137/200\n",
            "183/183 [==============================] - 32s 173ms/step - loss: 0.2883 - accuracy: 0.8966 - val_loss: 0.4489 - val_accuracy: 0.8668\n",
            "Epoch 138/200\n",
            "183/183 [==============================] - 32s 174ms/step - loss: 0.2786 - accuracy: 0.8987 - val_loss: 0.4514 - val_accuracy: 0.8688\n",
            "Epoch 139/200\n",
            "183/183 [==============================] - 32s 176ms/step - loss: 0.2698 - accuracy: 0.9035 - val_loss: 0.4382 - val_accuracy: 0.8727\n",
            "Epoch 140/200\n",
            "183/183 [==============================] - 32s 177ms/step - loss: 0.2833 - accuracy: 0.8969 - val_loss: 0.4605 - val_accuracy: 0.8677\n",
            "Epoch 141/200\n",
            "183/183 [==============================] - 32s 176ms/step - loss: 0.2726 - accuracy: 0.9027 - val_loss: 0.4396 - val_accuracy: 0.8685\n",
            "Epoch 142/200\n",
            "183/183 [==============================] - 32s 174ms/step - loss: 0.2825 - accuracy: 0.8999 - val_loss: 0.4458 - val_accuracy: 0.8730\n",
            "Epoch 143/200\n",
            "183/183 [==============================] - 32s 174ms/step - loss: 0.2679 - accuracy: 0.9034 - val_loss: 0.4761 - val_accuracy: 0.8606\n",
            "Epoch 144/200\n",
            "183/183 [==============================] - 32s 175ms/step - loss: 0.2757 - accuracy: 0.9001 - val_loss: 0.4270 - val_accuracy: 0.8736\n",
            "Epoch 145/200\n",
            "183/183 [==============================] - 32s 175ms/step - loss: 0.2780 - accuracy: 0.9004 - val_loss: 0.4477 - val_accuracy: 0.8724\n",
            "Epoch 146/200\n",
            "183/183 [==============================] - 32s 175ms/step - loss: 0.2680 - accuracy: 0.9045 - val_loss: 0.4444 - val_accuracy: 0.8720\n",
            "Epoch 147/200\n",
            "183/183 [==============================] - 32s 173ms/step - loss: 0.2774 - accuracy: 0.8992 - val_loss: 0.4652 - val_accuracy: 0.8647\n",
            "Epoch 148/200\n",
            "183/183 [==============================] - 32s 174ms/step - loss: 0.2761 - accuracy: 0.9021 - val_loss: 0.4217 - val_accuracy: 0.8773\n",
            "Epoch 149/200\n",
            "183/183 [==============================] - 32s 175ms/step - loss: 0.2634 - accuracy: 0.9062 - val_loss: 0.4740 - val_accuracy: 0.8636\n",
            "Epoch 150/200\n",
            "183/183 [==============================] - 32s 177ms/step - loss: 0.2674 - accuracy: 0.9032 - val_loss: 0.4393 - val_accuracy: 0.8768\n",
            "Epoch 151/200\n",
            "183/183 [==============================] - 32s 175ms/step - loss: 0.2748 - accuracy: 0.9035 - val_loss: 0.4824 - val_accuracy: 0.8603\n",
            "Epoch 152/200\n",
            "183/183 [==============================] - 32s 174ms/step - loss: 0.2651 - accuracy: 0.9046 - val_loss: 0.4349 - val_accuracy: 0.8796\n",
            "Epoch 153/200\n",
            "183/183 [==============================] - 32s 172ms/step - loss: 0.2649 - accuracy: 0.9071 - val_loss: 0.4345 - val_accuracy: 0.8706\n",
            "Epoch 154/200\n",
            "183/183 [==============================] - 32s 173ms/step - loss: 0.2639 - accuracy: 0.9072 - val_loss: 0.4248 - val_accuracy: 0.8747\n",
            "Epoch 155/200\n",
            "183/183 [==============================] - 32s 175ms/step - loss: 0.2623 - accuracy: 0.9062 - val_loss: 0.4394 - val_accuracy: 0.8719\n",
            "Epoch 156/200\n",
            "183/183 [==============================] - 32s 173ms/step - loss: 0.2623 - accuracy: 0.9077 - val_loss: 0.4480 - val_accuracy: 0.8702\n",
            "Epoch 157/200\n",
            "183/183 [==============================] - 32s 175ms/step - loss: 0.2625 - accuracy: 0.9086 - val_loss: 0.4728 - val_accuracy: 0.8629\n",
            "Epoch 158/200\n",
            "183/183 [==============================] - 33s 180ms/step - loss: 0.2580 - accuracy: 0.9074 - val_loss: 0.4355 - val_accuracy: 0.8743\n",
            "Epoch 159/200\n",
            "183/183 [==============================] - 32s 176ms/step - loss: 0.2558 - accuracy: 0.9093 - val_loss: 0.4327 - val_accuracy: 0.8747\n",
            "Epoch 160/200\n",
            "183/183 [==============================] - 32s 176ms/step - loss: 0.2449 - accuracy: 0.9118 - val_loss: 0.4464 - val_accuracy: 0.8765\n",
            "Epoch 161/200\n",
            "183/183 [==============================] - 32s 174ms/step - loss: 0.2632 - accuracy: 0.9068 - val_loss: 0.4311 - val_accuracy: 0.8739\n",
            "Epoch 162/200\n",
            "183/183 [==============================] - 32s 174ms/step - loss: 0.2561 - accuracy: 0.9102 - val_loss: 0.4521 - val_accuracy: 0.8672\n",
            "Epoch 163/200\n",
            "183/183 [==============================] - 32s 177ms/step - loss: 0.2530 - accuracy: 0.9107 - val_loss: 0.4236 - val_accuracy: 0.8781\n",
            "Epoch 164/200\n",
            "183/183 [==============================] - 32s 175ms/step - loss: 0.2612 - accuracy: 0.9091 - val_loss: 0.4297 - val_accuracy: 0.8758\n",
            "Epoch 165/200\n",
            "183/183 [==============================] - 32s 174ms/step - loss: 0.2549 - accuracy: 0.9097 - val_loss: 0.4556 - val_accuracy: 0.8754\n",
            "Epoch 166/200\n",
            "183/183 [==============================] - 32s 172ms/step - loss: 0.2544 - accuracy: 0.9103 - val_loss: 0.4287 - val_accuracy: 0.8766\n",
            "Epoch 167/200\n",
            "183/183 [==============================] - 32s 175ms/step - loss: 0.2447 - accuracy: 0.9119 - val_loss: 0.4234 - val_accuracy: 0.8795\n",
            "Epoch 168/200\n",
            "183/183 [==============================] - 32s 176ms/step - loss: 0.2482 - accuracy: 0.9139 - val_loss: 0.4680 - val_accuracy: 0.8680\n",
            "Epoch 169/200\n",
            "183/183 [==============================] - 32s 174ms/step - loss: 0.2567 - accuracy: 0.9107 - val_loss: 0.4545 - val_accuracy: 0.8710\n",
            "Epoch 170/200\n",
            "183/183 [==============================] - 32s 174ms/step - loss: 0.2550 - accuracy: 0.9096 - val_loss: 0.4305 - val_accuracy: 0.8747\n",
            "Epoch 171/200\n",
            "183/183 [==============================] - 32s 173ms/step - loss: 0.2444 - accuracy: 0.9145 - val_loss: 0.4249 - val_accuracy: 0.8817\n",
            "Epoch 172/200\n",
            "183/183 [==============================] - 32s 174ms/step - loss: 0.2415 - accuracy: 0.9146 - val_loss: 0.4196 - val_accuracy: 0.8825\n",
            "Epoch 173/200\n",
            "183/183 [==============================] - 32s 173ms/step - loss: 0.2485 - accuracy: 0.9118 - val_loss: 0.4407 - val_accuracy: 0.8758\n",
            "Epoch 174/200\n",
            "183/183 [==============================] - 32s 173ms/step - loss: 0.2440 - accuracy: 0.9143 - val_loss: 0.4519 - val_accuracy: 0.8798\n",
            "Epoch 175/200\n",
            "183/183 [==============================] - 32s 174ms/step - loss: 0.2377 - accuracy: 0.9165 - val_loss: 0.4217 - val_accuracy: 0.8827\n",
            "Epoch 176/200\n",
            "183/183 [==============================] - 31s 172ms/step - loss: 0.2455 - accuracy: 0.9140 - val_loss: 0.4441 - val_accuracy: 0.8763\n",
            "Epoch 177/200\n",
            "183/183 [==============================] - 31s 172ms/step - loss: 0.2415 - accuracy: 0.9151 - val_loss: 0.4365 - val_accuracy: 0.8789\n",
            "Epoch 178/200\n",
            "183/183 [==============================] - 31s 171ms/step - loss: 0.2391 - accuracy: 0.9158 - val_loss: 0.4348 - val_accuracy: 0.8784\n",
            "Epoch 179/200\n",
            "183/183 [==============================] - 31s 171ms/step - loss: 0.2399 - accuracy: 0.9160 - val_loss: 0.4473 - val_accuracy: 0.8755\n",
            "Epoch 180/200\n",
            "183/183 [==============================] - 31s 171ms/step - loss: 0.2311 - accuracy: 0.9168 - val_loss: 0.4665 - val_accuracy: 0.8762\n",
            "Epoch 181/200\n",
            "183/183 [==============================] - 31s 171ms/step - loss: 0.2465 - accuracy: 0.9135 - val_loss: 0.4417 - val_accuracy: 0.8777\n",
            "Epoch 182/200\n",
            "183/183 [==============================] - 31s 172ms/step - loss: 0.2409 - accuracy: 0.9158 - val_loss: 0.4572 - val_accuracy: 0.8791\n",
            "Epoch 183/200\n",
            "183/183 [==============================] - 31s 171ms/step - loss: 0.2411 - accuracy: 0.9157 - val_loss: 0.4522 - val_accuracy: 0.8728\n",
            "Epoch 184/200\n",
            "183/183 [==============================] - 31s 172ms/step - loss: 0.2328 - accuracy: 0.9173 - val_loss: 0.4302 - val_accuracy: 0.8818\n",
            "Epoch 185/200\n",
            "183/183 [==============================] - 31s 171ms/step - loss: 0.2325 - accuracy: 0.9188 - val_loss: 0.4518 - val_accuracy: 0.8821\n",
            "Epoch 186/200\n",
            "183/183 [==============================] - 31s 172ms/step - loss: 0.2364 - accuracy: 0.9178 - val_loss: 0.4507 - val_accuracy: 0.8848\n",
            "Epoch 187/200\n",
            "183/183 [==============================] - 31s 170ms/step - loss: 0.2317 - accuracy: 0.9200 - val_loss: 0.4500 - val_accuracy: 0.8741\n",
            "Epoch 188/200\n",
            "183/183 [==============================] - 32s 172ms/step - loss: 0.2334 - accuracy: 0.9183 - val_loss: 0.4475 - val_accuracy: 0.8804\n",
            "Epoch 189/200\n",
            "183/183 [==============================] - 32s 174ms/step - loss: 0.2395 - accuracy: 0.9169 - val_loss: 0.4554 - val_accuracy: 0.8751\n",
            "Epoch 190/200\n",
            "183/183 [==============================] - 32s 174ms/step - loss: 0.2385 - accuracy: 0.9178 - val_loss: 0.4367 - val_accuracy: 0.8850\n",
            "Epoch 191/200\n",
            "183/183 [==============================] - 31s 172ms/step - loss: 0.2333 - accuracy: 0.9188 - val_loss: 0.4620 - val_accuracy: 0.8773\n",
            "Epoch 192/200\n",
            "183/183 [==============================] - 31s 171ms/step - loss: 0.2342 - accuracy: 0.9181 - val_loss: 0.4186 - val_accuracy: 0.8856\n",
            "Epoch 193/200\n",
            "183/183 [==============================] - 32s 174ms/step - loss: 0.2340 - accuracy: 0.9198 - val_loss: 0.4284 - val_accuracy: 0.8858\n",
            "Epoch 194/200\n",
            "183/183 [==============================] - 32s 174ms/step - loss: 0.2348 - accuracy: 0.9187 - val_loss: 0.4424 - val_accuracy: 0.8842\n",
            "Epoch 195/200\n",
            "183/183 [==============================] - 32s 173ms/step - loss: 0.2261 - accuracy: 0.9209 - val_loss: 0.4592 - val_accuracy: 0.8805\n",
            "Epoch 196/200\n",
            "183/183 [==============================] - 32s 173ms/step - loss: 0.2320 - accuracy: 0.9192 - val_loss: 0.5008 - val_accuracy: 0.8671\n",
            "Epoch 197/200\n",
            "183/183 [==============================] - 32s 175ms/step - loss: 0.2280 - accuracy: 0.9215 - val_loss: 0.4421 - val_accuracy: 0.8850\n",
            "Epoch 198/200\n",
            "183/183 [==============================] - 31s 172ms/step - loss: 0.2303 - accuracy: 0.9191 - val_loss: 0.4489 - val_accuracy: 0.8815\n",
            "Epoch 199/200\n",
            "183/183 [==============================] - 32s 174ms/step - loss: 0.2271 - accuracy: 0.9235 - val_loss: 0.4628 - val_accuracy: 0.8769\n",
            "Epoch 200/200\n",
            "183/183 [==============================] - 32s 174ms/step - loss: 0.2289 - accuracy: 0.9202 - val_loss: 0.4426 - val_accuracy: 0.8819\n"
          ]
        }
      ]
    },
    {
      "cell_type": "code",
      "source": [
        "score = model.evaluate(x_test, y_test, verbose=1)\n",
        "print('Test loss:', score[0])\n",
        "print('Test accuracy:', score[1])"
      ],
      "metadata": {
        "colab": {
          "base_uri": "https://localhost:8080/"
        },
        "id": "O15rfbL4k-I_",
        "outputId": "eb1e5668-94af-4c9a-e9bf-683c9b4e5579"
      },
      "execution_count": null,
      "outputs": [
        {
          "output_type": "stream",
          "name": "stdout",
          "text": [
            "366/366 [==============================] - 4s 9ms/step - loss: 0.4426 - accuracy: 0.8819\n",
            "Test loss: 0.44262149930000305\n",
            "Test accuracy: 0.8819159865379333\n"
          ]
        }
      ]
    },
    {
      "cell_type": "code",
      "source": [
        "# list all data in history\n",
        "print(history.history.keys())\n",
        "import matplotlib.pyplot as plt\n",
        "import numpy"
      ],
      "metadata": {
        "colab": {
          "base_uri": "https://localhost:8080/"
        },
        "id": "OQjoYBgalEOV",
        "outputId": "a6c88677-ce65-4965-ef53-d31a3be9812f"
      },
      "execution_count": null,
      "outputs": [
        {
          "output_type": "stream",
          "name": "stdout",
          "text": [
            "dict_keys(['loss', 'accuracy', 'val_loss', 'val_accuracy'])\n"
          ]
        }
      ]
    },
    {
      "cell_type": "code",
      "source": [
        "# summarize history for accuracy\n",
        "plt.plot(history.history['accuracy'])\n",
        "plt.plot(history.history['val_accuracy'])\n",
        "plt.title('model accuracy')\n",
        "plt.ylabel('accuracy')\n",
        "plt.xlabel('epoch')\n",
        "plt.legend(['train', 'test'], loc='upper left')\n",
        "plt.show()"
      ],
      "metadata": {
        "colab": {
          "base_uri": "https://localhost:8080/",
          "height": 295
        },
        "id": "xKIP65tjlHM5",
        "outputId": "8577d629-8af1-4b6f-b4a5-b2b8c5daa45a"
      },
      "execution_count": null,
      "outputs": [
        {
          "output_type": "display_data",
          "data": {
            "text/plain": [
              "<Figure size 432x288 with 1 Axes>"
            ],
            "image/png": "[encoded data removed]"
          },
          "metadata": {
            "needs_background": "light"
          }
        }
      ]
    },
    {
      "cell_type": "code",
      "source": [
        "# summarize history for loss\n",
        "plt.plot(history.history['loss'])\n",
        "plt.plot(history.history['val_loss'])\n",
        "plt.title('model loss')\n",
        "plt.ylabel('loss')\n",
        "plt.xlabel('epoch')\n",
        "plt.legend(['train', 'test'], loc='upper left')\n",
        "plt.show()"
      ],
      "metadata": {
        "colab": {
          "base_uri": "https://localhost:8080/",
          "height": 295
        },
        "id": "xN7HsMrxlLMp",
        "outputId": "8fd7c733-6a2b-4fec-8496-299e640cf2f4"
      },
      "execution_count": null,
      "outputs": [
        {
          "output_type": "display_data",
          "data": {
            "text/plain": [
              "<Figure size 432x288 with 1 Axes>"
            ],
            "image/png": "[encoded data removed]"
          },
          "metadata": {
            "needs_background": "light"
          }
        }
      ]
    },
    {
      "cell_type": "code",
      "source": [
        "plt.plot(history.history['val_accuracy'])\n",
        "plt.plot(history.history['val_loss'])\n",
        "plt.title('test model')\n",
        "plt.ylabel('test accuracy')\n",
        "plt.xlabel('test loss')\n",
        "plt.show()\n"
      ],
      "metadata": {
        "colab": {
          "base_uri": "https://localhost:8080/",
          "height": 295
        },
        "id": "tvmSjjC3lPrd",
        "outputId": "eff6908b-5411-4945-d5b3-0dd977daeb2d"
      },
      "execution_count": null,
      "outputs": [
        {
          "output_type": "display_data",
          "data": {
            "text/plain": [
              "<Figure size 432x288 with 1 Axes>"
            ],
            "image/png": "[encoded data removed]"
          },
          "metadata": {
            "needs_background": "light"
          }
        }
      ]
    },
    {
      "cell_type": "code",
      "source": [
        "# Load the library\n",
        "from tensorflow.keras.models import load_model\n",
        "# Save the model using TensorFlow SavedModel format\n",
        "model.save('/content/drive/My Drive/CSE499ATry2')"
      ],
      "metadata": {
        "id": "D8Uve5B4lTKt"
      },
      "execution_count": null,
      "outputs": []
    }
  ]
}